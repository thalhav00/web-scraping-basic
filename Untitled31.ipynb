{
 "cells": [
  {
   "cell_type": "code",
   "execution_count": 3,
   "metadata": {
    "collapsed": true
   },
   "outputs": [],
   "source": [
    "import bs4"
   ]
  },
  {
   "cell_type": "code",
   "execution_count": 4,
   "metadata": {
    "collapsed": true
   },
   "outputs": [],
   "source": [
    "from urllib.request import urlopen as uReq"
   ]
  },
  {
   "cell_type": "code",
   "execution_count": 5,
   "metadata": {
    "collapsed": true
   },
   "outputs": [],
   "source": [
    "from bs4 import BeautifulSoup as soup"
   ]
  },
  {
   "cell_type": "code",
   "execution_count": 6,
   "metadata": {
    "collapsed": true
   },
   "outputs": [],
   "source": [
    "my_url='https://www.newegg.com/Video-Cards-Video-Devices/Category/ID-38'"
   ]
  },
  {
   "cell_type": "code",
   "execution_count": 7,
   "metadata": {
    "collapsed": true
   },
   "outputs": [],
   "source": [
    "uClient=uReq(my_url)"
   ]
  },
  {
   "cell_type": "code",
   "execution_count": 8,
   "metadata": {
    "collapsed": true
   },
   "outputs": [],
   "source": [
    "page_html=uClient.read()"
   ]
  },
  {
   "cell_type": "code",
   "execution_count": 9,
   "metadata": {
    "collapsed": true
   },
   "outputs": [],
   "source": [
    "uClient.close()"
   ]
  },
  {
   "cell_type": "code",
   "execution_count": 10,
   "metadata": {
    "collapsed": true
   },
   "outputs": [],
   "source": [
    "page_soup=soup(page_html,\"html.parser\")"
   ]
  },
  {
   "cell_type": "code",
   "execution_count": 11,
   "metadata": {},
   "outputs": [
    {
     "data": {
      "text/plain": [
       "<h1 class=\"page-title-text\">Video Cards &amp; Video Devices</h1>"
      ]
     },
     "execution_count": 11,
     "metadata": {},
     "output_type": "execute_result"
    }
   ],
   "source": [
    "page_soup.h1"
   ]
  },
  {
   "cell_type": "code",
   "execution_count": 12,
   "metadata": {},
   "outputs": [
    {
     "data": {
      "text/plain": [
       "<p>Newegg.com - A great place to buy computers, computer parts, electronics, software, accessories, and DVDs online. With great prices, fast shipping, and top-rated customer service - Newegg shopping upgraded ™</p>"
      ]
     },
     "execution_count": 12,
     "metadata": {},
     "output_type": "execute_result"
    }
   ],
   "source": [
    "page_soup.p"
   ]
  },
  {
   "cell_type": "code",
   "execution_count": 13,
   "metadata": {},
   "outputs": [
    {
     "data": {
      "text/plain": [
       "<span class=\"noCSS\">Skip to:</span>"
      ]
     },
     "execution_count": 13,
     "metadata": {},
     "output_type": "execute_result"
    }
   ],
   "source": [
    "page_soup.body.span"
   ]
  },
  {
   "cell_type": "code",
   "execution_count": 14,
   "metadata": {
    "collapsed": true
   },
   "outputs": [],
   "source": [
    "containers=page_soup.findAll(\"div\",{\"class\":\"item-container\"})"
   ]
  },
  {
   "cell_type": "code",
   "execution_count": 15,
   "metadata": {},
   "outputs": [
    {
     "data": {
      "text/plain": [
       "12"
      ]
     },
     "execution_count": 15,
     "metadata": {},
     "output_type": "execute_result"
    }
   ],
   "source": [
    "len(containers)"
   ]
  },
  {
   "cell_type": "code",
   "execution_count": 16,
   "metadata": {},
   "outputs": [
    {
     "data": {
      "text/plain": [
       "<div class=\"item-container \">\n",
       "<!--product image-->\n",
       "<a class=\"item-img\" href=\"https://www.newegg.com/Product/Product.aspx?Item=N82E16814125955&amp;ignorebbr=1\">\n",
       "<img alt=\"GIGABYTE GeForce GTX 1080 Ti DirectX 12 GV-N108TGAMING OC-11GD 11GB 352-Bit GDDR5X PCI Express 3.0 x16 ATX Video Card\" class=\" lazy-img\" data-effect=\"fadeIn\" data-src=\"//c1.neweggimages.com/NeweggImage/ProductImageCompressAll300/14-125-955-Z01.jpg\" src=\"//c1.neweggimages.com/WebResource/Themes/2005/Nest/blank.gif\" title=\"GIGABYTE GeForce GTX 1080 Ti DirectX 12 GV-N108TGAMING OC-11GD 11GB 352-Bit GDDR5X PCI Express 3.0 x16 ATX Video Card\">\n",
       "</img></a>\n",
       "<div class=\"item-info\">\n",
       "<!--brand info-->\n",
       "<div class=\"item-branding\">\n",
       "<a class=\"item-brand\" href=\"https://www.newegg.com/GIGABYTE/BrandStore/ID-1314\">\n",
       "<img alt=\"GIGABYTE\" class=\" lazy-img\" data-effect=\"fadeIn\" data-src=\"//c1.neweggimages.com/Brandimage_70x28//Brand1314.gif\" src=\"//c1.neweggimages.com/WebResource/Themes/2005/Nest/blank.gif\" title=\"GIGABYTE\">\n",
       "</img></a>\n",
       "<!--rating info-->\n",
       "<a class=\"item-rating\" href=\"https://www.newegg.com/Product/Product.aspx?Item=N82E16814125955&amp;SortField=0&amp;SummaryType=0&amp;PageSize=10&amp;SelectedRating=-1&amp;VideoOnlyMark=False&amp;ignorebbr=1&amp;IsFeedbackTab=true#scrollFullInfo\" title=\"Rating + 4\"><i class=\"rating rating-4\"></i><span class=\"item-rating-num\">(49)</span></a>\n",
       "</div>\n",
       "<!--description info-->\n",
       "<a class=\"item-title\" href=\"https://www.newegg.com/Product/Product.aspx?Item=N82E16814125955&amp;ignorebbr=1\" title=\"View Details\"><i class=\"icon-premier icon-premier-xsm\"></i>GIGABYTE GeForce GTX 1080 Ti DirectX 12 GV-N108TGAMING OC-11GD Video Card</a>\n",
       "<!--promption info-->\n",
       "<p class=\"item-promo\"></p>\n",
       "<!--feature-->\n",
       "<ul class=\"item-features\">\n",
       "<li><strong>Core Clock:</strong> OC Mode: 1544 MHz\n",
       "Gaming Mode: 1518 MHz</li><li><strong>Max Resolution:</strong> 7680 x 4320</li><li><strong>DisplayPort:</strong> 3 x DisplayPort 1.4</li><li><strong>DVI:</strong> 1 x Dual-Link DVI-D</li>\n",
       "<li><strong>Model #: </strong>GV-N108TGAMING OC-11</li>\n",
       "<li><strong>Item #: </strong>N82E16814125955</li>\n",
       "</ul>\n",
       "<div class=\"item-action\">\n",
       "<!--price-->\n",
       "<ul class=\"price has-label-membership \">\n",
       "<li class=\"price-was\">\n",
       "</li>\n",
       "<li class=\"price-map\">\n",
       "</li>\n",
       "<li class=\"price-current\">\n",
       "<span class=\"price-current-label\">\n",
       "<a aria-label=\"Premier Price Explaination\" class=\"membership-info membership-popup\" data-neg-popid=\"MembershipPopup\" href=\"javascript:void(0);\" name=\"membership\" style=\"display: inline\"><span class=\"membership-icon\"></span><span style=\"display: none\">|</span></a>\n",
       "</span>$<strong>649</strong><sup>.99</sup> <a class=\"price-current-num\" href=\"https://www.newegg.com/Product/Product.aspx?Item=N82E16814125955&amp;buyingoptions=New&amp;ignorebbr=1\">(9 Offers)</a>\n",
       "<span class=\"price-current-range\">\n",
       "<abbr title=\"to\">–</abbr>\n",
       "</span>\n",
       "</li>\n",
       "<li class=\"price-save \">\n",
       "<span class=\"price-save-endtime price-save-endtime-current\"><strong>Sale Ends in 13 Hours</strong></span>\n",
       "<span class=\"price-save-endtime price-save-endtime-another\" style=\"display:none;\"><strong>Sale Ends in 11:59PM PST</strong></span>\n",
       "</li>\n",
       "<li class=\"price-note\">\n",
       "<span class=\"price-note-dollar\" data-price=\"$629.99\">$629.99</span>\n",
       "<span class=\"price-note-label \"> after </span>\n",
       "<span class=\"price-note-dollar\">$20.00</span>\n",
       "<span class=\"price-note-label\"> rebate card</span>\n",
       "</li>\n",
       "<li class=\"price-ship\">\n",
       "        Free Shipping\n",
       "    </li>\n",
       "</ul>\n",
       "<!--egg point-->\n",
       "<!--financing-->\n",
       "<!--button-->\n",
       "<div class=\"item-operate hidden-action-button \">\n",
       "<div class=\"item-button-area\">\n",
       "<button class=\"btn btn-mini \" onclick=\"Javascript:Biz.ProductList.Item.add('https://www.newegg.com/Product/Product.aspx?Item=N82E16814125955&amp;ignorebbr=1');\" title=\"View Details\" type=\"button\">View Details <i class=\"fa fa-caret-right\"></i></button>\n",
       "</div>\n",
       "<!--compare-->\n",
       "<div class=\"item-compare-box\">\n",
       "<label class=\"form-checkbox\">\n",
       "<input aria-labelledby=\"checkbox_compare\" autocomplete=\"off\" id=\"CompareItem_14-125-955\" name=\"CompareItem\" neg-itemnumber=\"14-125-955\" type=\"checkbox\" value=\"CompareItem_14-125-955\"/>\n",
       "<span class=\"form-checkbox-title\">Compare</span>\n",
       "</label>\n",
       "</div>\n",
       "<script type=\"text/javascript\">\n",
       "                        Biz.Product.CompareConfig.compareItems.push(\"14-125-955\");\n",
       "                        var itemThumbs = new Object();\n",
       "                        itemThumbs.itemNumber = \"14-125-955\";\n",
       "                        itemThumbs.imageUrl = \"//c1.neweggimages.com/ProductImageCompressAll35/14-125-955-Z01.jpg\";\n",
       "                        Biz.Product.CompareConfig.Thumbs.push(itemThumbs);\n",
       "                    </script>\n",
       "</div>\n",
       "</div>\n",
       "</div>\n",
       "</div>"
      ]
     },
     "execution_count": 16,
     "metadata": {},
     "output_type": "execute_result"
    }
   ],
   "source": [
    "containers[0]"
   ]
  },
  {
   "cell_type": "code",
   "execution_count": 17,
   "metadata": {
    "collapsed": true
   },
   "outputs": [],
   "source": [
    "contain=containers[0]\n",
    "container=containers[0]\n"
   ]
  },
  {
   "cell_type": "code",
   "execution_count": 18,
   "metadata": {},
   "outputs": [
    {
     "data": {
      "text/plain": [
       "<div class=\"item-info\">\n",
       "<!--brand info-->\n",
       "<div class=\"item-branding\">\n",
       "<a class=\"item-brand\" href=\"https://www.newegg.com/GIGABYTE/BrandStore/ID-1314\">\n",
       "<img alt=\"GIGABYTE\" class=\" lazy-img\" data-effect=\"fadeIn\" data-src=\"//c1.neweggimages.com/Brandimage_70x28//Brand1314.gif\" src=\"//c1.neweggimages.com/WebResource/Themes/2005/Nest/blank.gif\" title=\"GIGABYTE\">\n",
       "</img></a>\n",
       "<!--rating info-->\n",
       "<a class=\"item-rating\" href=\"https://www.newegg.com/Product/Product.aspx?Item=N82E16814125955&amp;SortField=0&amp;SummaryType=0&amp;PageSize=10&amp;SelectedRating=-1&amp;VideoOnlyMark=False&amp;ignorebbr=1&amp;IsFeedbackTab=true#scrollFullInfo\" title=\"Rating + 4\"><i class=\"rating rating-4\"></i><span class=\"item-rating-num\">(49)</span></a>\n",
       "</div>\n",
       "<!--description info-->\n",
       "<a class=\"item-title\" href=\"https://www.newegg.com/Product/Product.aspx?Item=N82E16814125955&amp;ignorebbr=1\" title=\"View Details\"><i class=\"icon-premier icon-premier-xsm\"></i>GIGABYTE GeForce GTX 1080 Ti DirectX 12 GV-N108TGAMING OC-11GD Video Card</a>\n",
       "<!--promption info-->\n",
       "<p class=\"item-promo\"></p>\n",
       "<!--feature-->\n",
       "<ul class=\"item-features\">\n",
       "<li><strong>Core Clock:</strong> OC Mode: 1544 MHz\n",
       "Gaming Mode: 1518 MHz</li><li><strong>Max Resolution:</strong> 7680 x 4320</li><li><strong>DisplayPort:</strong> 3 x DisplayPort 1.4</li><li><strong>DVI:</strong> 1 x Dual-Link DVI-D</li>\n",
       "<li><strong>Model #: </strong>GV-N108TGAMING OC-11</li>\n",
       "<li><strong>Item #: </strong>N82E16814125955</li>\n",
       "</ul>\n",
       "<div class=\"item-action\">\n",
       "<!--price-->\n",
       "<ul class=\"price has-label-membership \">\n",
       "<li class=\"price-was\">\n",
       "</li>\n",
       "<li class=\"price-map\">\n",
       "</li>\n",
       "<li class=\"price-current\">\n",
       "<span class=\"price-current-label\">\n",
       "<a aria-label=\"Premier Price Explaination\" class=\"membership-info membership-popup\" data-neg-popid=\"MembershipPopup\" href=\"javascript:void(0);\" name=\"membership\" style=\"display: inline\"><span class=\"membership-icon\"></span><span style=\"display: none\">|</span></a>\n",
       "</span>$<strong>649</strong><sup>.99</sup> <a class=\"price-current-num\" href=\"https://www.newegg.com/Product/Product.aspx?Item=N82E16814125955&amp;buyingoptions=New&amp;ignorebbr=1\">(9 Offers)</a>\n",
       "<span class=\"price-current-range\">\n",
       "<abbr title=\"to\">–</abbr>\n",
       "</span>\n",
       "</li>\n",
       "<li class=\"price-save \">\n",
       "<span class=\"price-save-endtime price-save-endtime-current\"><strong>Sale Ends in 13 Hours</strong></span>\n",
       "<span class=\"price-save-endtime price-save-endtime-another\" style=\"display:none;\"><strong>Sale Ends in 11:59PM PST</strong></span>\n",
       "</li>\n",
       "<li class=\"price-note\">\n",
       "<span class=\"price-note-dollar\" data-price=\"$629.99\">$629.99</span>\n",
       "<span class=\"price-note-label \"> after </span>\n",
       "<span class=\"price-note-dollar\">$20.00</span>\n",
       "<span class=\"price-note-label\"> rebate card</span>\n",
       "</li>\n",
       "<li class=\"price-ship\">\n",
       "        Free Shipping\n",
       "    </li>\n",
       "</ul>\n",
       "<!--egg point-->\n",
       "<!--financing-->\n",
       "<!--button-->\n",
       "<div class=\"item-operate hidden-action-button \">\n",
       "<div class=\"item-button-area\">\n",
       "<button class=\"btn btn-mini \" onclick=\"Javascript:Biz.ProductList.Item.add('https://www.newegg.com/Product/Product.aspx?Item=N82E16814125955&amp;ignorebbr=1');\" title=\"View Details\" type=\"button\">View Details <i class=\"fa fa-caret-right\"></i></button>\n",
       "</div>\n",
       "<!--compare-->\n",
       "<div class=\"item-compare-box\">\n",
       "<label class=\"form-checkbox\">\n",
       "<input aria-labelledby=\"checkbox_compare\" autocomplete=\"off\" id=\"CompareItem_14-125-955\" name=\"CompareItem\" neg-itemnumber=\"14-125-955\" type=\"checkbox\" value=\"CompareItem_14-125-955\"/>\n",
       "<span class=\"form-checkbox-title\">Compare</span>\n",
       "</label>\n",
       "</div>\n",
       "<script type=\"text/javascript\">\n",
       "                        Biz.Product.CompareConfig.compareItems.push(\"14-125-955\");\n",
       "                        var itemThumbs = new Object();\n",
       "                        itemThumbs.itemNumber = \"14-125-955\";\n",
       "                        itemThumbs.imageUrl = \"//c1.neweggimages.com/ProductImageCompressAll35/14-125-955-Z01.jpg\";\n",
       "                        Biz.Product.CompareConfig.Thumbs.push(itemThumbs);\n",
       "                    </script>\n",
       "</div>\n",
       "</div>\n",
       "</div>"
      ]
     },
     "execution_count": 18,
     "metadata": {},
     "output_type": "execute_result"
    }
   ],
   "source": [
    "container.div"
   ]
  },
  {
   "cell_type": "code",
   "execution_count": 19,
   "metadata": {},
   "outputs": [
    {
     "data": {
      "text/plain": [
       "<a class=\"item-brand\" href=\"https://www.newegg.com/GIGABYTE/BrandStore/ID-1314\">\n",
       "<img alt=\"GIGABYTE\" class=\" lazy-img\" data-effect=\"fadeIn\" data-src=\"//c1.neweggimages.com/Brandimage_70x28//Brand1314.gif\" src=\"//c1.neweggimages.com/WebResource/Themes/2005/Nest/blank.gif\" title=\"GIGABYTE\">\n",
       "</img></a>"
      ]
     },
     "execution_count": 19,
     "metadata": {},
     "output_type": "execute_result"
    }
   ],
   "source": [
    "container.div.div.a"
   ]
  },
  {
   "cell_type": "code",
   "execution_count": 20,
   "metadata": {},
   "outputs": [
    {
     "data": {
      "text/plain": [
       "<img alt=\"GIGABYTE\" class=\" lazy-img\" data-effect=\"fadeIn\" data-src=\"//c1.neweggimages.com/Brandimage_70x28//Brand1314.gif\" src=\"//c1.neweggimages.com/WebResource/Themes/2005/Nest/blank.gif\" title=\"GIGABYTE\">\n",
       "</img>"
      ]
     },
     "execution_count": 20,
     "metadata": {},
     "output_type": "execute_result"
    }
   ],
   "source": [
    "container.div.div.a.img"
   ]
  },
  {
   "cell_type": "code",
   "execution_count": 21,
   "metadata": {},
   "outputs": [
    {
     "data": {
      "text/plain": [
       "'GIGABYTE'"
      ]
     },
     "execution_count": 21,
     "metadata": {},
     "output_type": "execute_result"
    }
   ],
   "source": [
    "container.div.div.a.img[\"title\"]"
   ]
  },
  {
   "cell_type": "code",
   "execution_count": 22,
   "metadata": {
    "collapsed": true
   },
   "outputs": [],
   "source": [
    "title_container=container.findAll(\"a\",{\"class\":\"item-title\"})"
   ]
  },
  {
   "cell_type": "code",
   "execution_count": 23,
   "metadata": {},
   "outputs": [
    {
     "data": {
      "text/plain": [
       "<a class=\"item-title\" href=\"https://www.newegg.com/Product/Product.aspx?Item=N82E16814125955&amp;ignorebbr=1\" title=\"View Details\"><i class=\"icon-premier icon-premier-xsm\"></i>GIGABYTE GeForce GTX 1080 Ti DirectX 12 GV-N108TGAMING OC-11GD Video Card</a>"
      ]
     },
     "execution_count": 23,
     "metadata": {},
     "output_type": "execute_result"
    }
   ],
   "source": [
    "title_container[0]"
   ]
  },
  {
   "cell_type": "code",
   "execution_count": 24,
   "metadata": {},
   "outputs": [
    {
     "data": {
      "text/plain": [
       "'GIGABYTE GeForce GTX 1080 Ti DirectX 12 GV-N108TGAMING OC-11GD Video Card'"
      ]
     },
     "execution_count": 24,
     "metadata": {},
     "output_type": "execute_result"
    }
   ],
   "source": [
    "title_container[0].text"
   ]
  },
  {
   "cell_type": "code",
   "execution_count": 25,
   "metadata": {
    "collapsed": true
   },
   "outputs": [],
   "source": [
    "shipping_container=container.findAll(\"li\",{\"class\":\"price-ship\"})"
   ]
  },
  {
   "cell_type": "code",
   "execution_count": 26,
   "metadata": {},
   "outputs": [
    {
     "data": {
      "text/plain": [
       "<li class=\"price-ship\">\n",
       "        Free Shipping\n",
       "    </li>"
      ]
     },
     "execution_count": 26,
     "metadata": {},
     "output_type": "execute_result"
    }
   ],
   "source": [
    "shipping_container[0]"
   ]
  },
  {
   "cell_type": "code",
   "execution_count": 27,
   "metadata": {},
   "outputs": [
    {
     "data": {
      "text/plain": [
       "'\\r\\n        Free Shipping\\r\\n    '"
      ]
     },
     "execution_count": 27,
     "metadata": {},
     "output_type": "execute_result"
    }
   ],
   "source": [
    "shipping_container[0].text"
   ]
  },
  {
   "cell_type": "code",
   "execution_count": 28,
   "metadata": {},
   "outputs": [
    {
     "data": {
      "text/plain": [
       "'Free Shipping'"
      ]
     },
     "execution_count": 28,
     "metadata": {},
     "output_type": "execute_result"
    }
   ],
   "source": [
    "shipping_container[0].text.strip()"
   ]
  },
  {
   "cell_type": "code",
   "execution_count": 29,
   "metadata": {},
   "outputs": [
    {
     "name": "stdout",
     "output_type": "stream",
     "text": [
      "brand:GIGABYTE\n",
      "product_name:GIGABYTE GeForce GTX 1080 Ti DirectX 12 GV-N108TGAMING OC-11GD Video Card\n",
      "shipping:Free Shipping\n",
      "brand:MSI\n",
      "product_name:MSI Radeon RX 580 DirectX 12 RX 580 ARMOR 8G OC Video Card\n",
      "shipping:Free Shipping\n",
      "brand:ASUS\n",
      "product_name:ASUS ROG GeForce GTX 1080 Ti DirectX 12 STRIX-GTX1080TI-11G-GAMING Video Card\n",
      "shipping:Free Shipping\n",
      "brand:ASRock\n",
      "product_name:ASRock Phantom Gaming X Radeon RX 580 DirectX 12 RX580 8G OC Video Card\n",
      "shipping:$4.99 Shipping\n",
      "brand:EVGA\n",
      "product_name:EVGA GeForce GTX 1060 SC GAMING, ACX 2.0 (Single Fan), 03G-P4-6162-KR, 3GB GDDR5, DX12 OSD Support (PXOC)\n",
      "shipping:$4.99 Shipping\n",
      "brand:ZOTAC\n",
      "product_name:ZOTAC GeForce GTX 1080 Mini, ZT-P10800H-10P, 8GB GDDR5X IceStorm Cooling, Dual Fans, 90mm Pressure Optimized Fan, 100mm Maximum Airflow Optimized Fan, Direct GPU Copper Block Contact, Metal Back Plate\n",
      "shipping:$4.99 Shipping\n",
      "brand:ASUS\n",
      "product_name:ASUS AREZ Radeon RX Vega 64 AREZ-STRIX-RXVEGA64-O8G-GAMING Video Card\n",
      "shipping:$4.99 Shipping\n",
      "brand:ZOTAC\n",
      "product_name:ZOTAC GeForce GTX 1080 Ti DirectX 12 ZT-P10810G-10P Video Card\n",
      "shipping:Free Shipping\n",
      "brand:MSI\n",
      "product_name:MSI GeForce GTX 1070 DirectX 12 GTX 1070 ARMOR 8G OC Video Card\n",
      "shipping:Free Shipping\n",
      "brand:Sapphire Tech\n",
      "product_name:Sapphire PULSE Radeon RX 580 8GB GDDR5 PCI-E Dual HDMI / DVI-D / Dual DP OC w/ Backplate (UEFI), 100411P8GOCL\n",
      "shipping:Free Shipping\n",
      "brand:GIGABYTE\n",
      "product_name:GIGABYTE AORUS Radeon RX 570 DirectX 12 GV-RX570AORUS-4GD Video Card\n",
      "shipping:$4.99 Shipping\n",
      "brand:Sapphire Tech\n",
      "product_name:SAPPHIRE PULSE Radeon RX Vega 56 DirectX 12 100420PSR Video Card\n",
      "shipping:Free Shipping\n"
     ]
    }
   ],
   "source": [
    "\n",
    "\n",
    "for container in containers:\n",
    "\tbrand=container.div.div.a.img[\"title\"]\n",
    "\n",
    "\ttitle_container=container.findAll(\"a\",{\"class\":\"item-title\"})\n",
    "\tproduct_name=title_container[0].text\n",
    "\n",
    "\tshipping_container=container.findAll(\"li\",{\"class\":\"price-ship\"})\n",
    "\tshipping=shipping_container[0].text.strip() \n",
    "\n",
    "\n",
    "\tprint(\"brand:\" + brand)\n",
    "\tprint(\"product_name:\" + product_name)\n",
    "\tprint(\"shipping:\" + shipping)\n",
    "\n"
   ]
  },
  {
   "cell_type": "code",
   "execution_count": 38,
   "metadata": {},
   "outputs": [],
   "source": [
    "filename=\"croducts.csv\"\n",
    "f=open(filename,\"w\")\n",
    "headers=\"brand,product_name,shipping\\n\"\n",
    "f.write(headers)\n",
    "f.write(brand + \",\" + product_name.replace(\",\",\"|\") + \",\" + shipping)\n",
    "f.close()\n"
   ]
  },
  {
   "cell_type": "code",
   "execution_count": null,
   "metadata": {
    "collapsed": true
   },
   "outputs": [],
   "source": []
  },
  {
   "cell_type": "code",
   "execution_count": null,
   "metadata": {
    "collapsed": true
   },
   "outputs": [],
   "source": []
  }
 ],
 "metadata": {
  "kernelspec": {
   "display_name": "Python 3",
   "language": "python",
   "name": "python3"
  },
  "language_info": {
   "codemirror_mode": {
    "name": "ipython",
    "version": 3
   },
   "file_extension": ".py",
   "mimetype": "text/x-python",
   "name": "python",
   "nbconvert_exporter": "python",
   "pygments_lexer": "ipython3",
   "version": "3.6.4"
  }
 },
 "nbformat": 4,
 "nbformat_minor": 2
}
